{
 "cells": [
  {
   "attachments": {},
   "cell_type": "markdown",
   "metadata": {},
   "source": [
    "#### Model Accuracy Testing"
   ]
  },
  {
   "attachments": {},
   "cell_type": "markdown",
   "metadata": {},
   "source": [
    "This file is for the accuracy testing of our machine learning model (XGBoost). We use a variety of methods to evaluate this."
   ]
  },
  {
   "cell_type": "code",
   "execution_count": 12,
   "metadata": {},
   "outputs": [],
   "source": [
    "from backend.dec_tree_trainer import train_dec_tree\n",
    "from sklearn.metrics import mean_absolute_error, mean_squared_error, precision_score, recall_score, roc_auc_score, accuracy_score\n",
    "from sklearn.model_selection import train_test_split\n",
    "import numpy as np\n",
    "import pandas as pd\n",
    "import xgboost as xgb\n",
    "import category_encoders as ce\n",
    "from sklearn.preprocessing import OneHotEncoder\n"
   ]
  },
  {
   "cell_type": "code",
   "execution_count": 14,
   "metadata": {},
   "outputs": [
    {
     "name": "stdout",
     "output_type": "stream",
     "text": [
      "Accuracy: 0.9170638703527169\n",
      "Precision: 0.9240414757656137\n",
      "Recall: 0.9914618369987064\n",
      "AUC: 0.5199001027893835\n",
      "MAE: 0.08293612964728313\n",
      "RMSE: 0.2879863358690532\n"
     ]
    }
   ],
   "source": [
    "rest_data_path = 'yelp/restaurantsTest.csv'\n",
    "user_data_path = 'yelp/scrapedUsers.csv'\n",
    "\n",
    "user_raw_data = pd.read_csv(user_data_path)\n",
    "rest_raw_data = pd.read_csv(rest_data_path)\n",
    "\n",
    "total_input = pd.merge(user_raw_data, rest_raw_data, on='rest_id')\n",
    "total_input_cleaned = total_input.drop(['name', 'rest_id', 'website', 'going'], axis='columns')\n",
    "output = total_input['going']\n",
    "\n",
    "total_input_cleaned.to_csv('accuracyTest.csv')\n",
    "\n",
    "# split data into training and testing sets\n",
    "X_train, X_test, y_train, y_test = train_test_split(total_input_cleaned, output, test_size=0.2, random_state=42)\n",
    "\n",
    "# encode categorical features using one-hot encoding\n",
    "onehot_encoder = OneHotEncoder(sparse=False, handle_unknown='ignore')\n",
    "X_train_encoded = onehot_encoder.fit_transform(X_train)\n",
    "X_test_encoded = onehot_encoder.transform(X_test)\n",
    "\n",
    "# create and fit XGBoost model on training data\n",
    "dec_tree = xgb.XGBClassifier()\n",
    "dec_tree.fit(X_train_encoded, y_train)\n",
    "\n",
    "# make predictions on testing data and evaluate accuracy\n",
    "y_pred = dec_tree.predict(X_test_encoded)\n",
    "accuracy = accuracy_score(y_test, y_pred)\n",
    "precision = precision_score(y_test, y_pred)\n",
    "recall = recall_score(y_test, y_pred)\n",
    "auc = roc_auc_score(y_test, y_pred)\n",
    "mae = mean_absolute_error(y_test, y_pred)\n",
    "rmse = np.sqrt(mean_squared_error(y_test, y_pred))\n",
    "\n",
    "# print accuracy metrics\n",
    "print(\"Accuracy:\", accuracy)\n",
    "print(\"Precision:\", precision)\n",
    "print(\"Recall:\", recall)\n",
    "print(\"AUC:\", auc)\n",
    "print(\"MAE:\", mae)\n",
    "print(\"RMSE:\", rmse)\n"
   ]
  },
  {
   "attachments": {},
   "cell_type": "markdown",
   "metadata": {},
   "source": [
    "Accuracy: The percentage of correct predictions made by the model out of all the predictions made. \n",
    "\n",
    "Precision: The percentage of correct positive predictions made by the model out of all positive predictions made.\n",
    "\n",
    "Recall: The percentage of correctly predicted positive instances out of all actual positive instances.\n",
    "\n",
    "AUC: The Area Under the Receiver Operating Characteristic Curve (ROC AUC) measures the ability of the model to distinguish between positive and negative instances.\n",
    "\n",
    "MAE: Mean Absolute Error measures the average absolute difference between the actual and predicted values. \n",
    "\n",
    "RMSE: Root Mean Squared Error measures the square root of the average of the squared differences between the actual and predicted values."
   ]
  }
 ],
 "metadata": {
  "kernelspec": {
   "display_name": "Python 3",
   "language": "python",
   "name": "python3"
  },
  "language_info": {
   "codemirror_mode": {
    "name": "ipython",
    "version": 3
   },
   "file_extension": ".py",
   "mimetype": "text/x-python",
   "name": "python",
   "nbconvert_exporter": "python",
   "pygments_lexer": "ipython3",
   "version": "3.9.13"
  },
  "orig_nbformat": 4
 },
 "nbformat": 4,
 "nbformat_minor": 2
}
